{
 "cells": [
  {
   "cell_type": "code",
   "execution_count": 116,
   "metadata": {},
   "outputs": [],
   "source": [
    "import numpy as np\n",
    "import pandas as pd\n",
    "import matplotlib.pyplot as plt\n",
    "from scipy.integrate import quad\n",
    "from scipy.interpolate import interp1d\n",
    "\n",
    "%matplotlib inline"
   ]
  },
  {
   "cell_type": "code",
   "execution_count": 117,
   "metadata": {},
   "outputs": [],
   "source": [
    "def K(beta):\n",
    "    integral_value = quad(\n",
    "        (lambda epsilon : ((1-epsilon**2)*(1-beta*epsilon**2))**(-1./2.)),\n",
    "        0,\n",
    "        1\n",
    "    )\n",
    "    return integral_value[0]"
   ]
  },
  {
   "cell_type": "code",
   "execution_count": 119,
   "metadata": {},
   "outputs": [],
   "source": [
    "def get_t(alpha,mu_to_gamma,alpha_f):\n",
    "    \n",
    "    COMPLICATED_INTEGRAL = quad(\n",
    "                        (lambda beta : (beta*((1+beta)**(1./2.))*K(beta))**-1),\n",
    "                            alpha**2,\n",
    "                            0.99\n",
    "                        )[0]\n",
    "    \n",
    "    PREFACTOR = np.pi / 4. * alpha_f * mu_to_gamma\n",
    "    \n",
    "    return PREFACTOR * COMPLICATED_INTEGRAL"
   ]
  },
  {
   "cell_type": "code",
   "execution_count": 121,
   "metadata": {},
   "outputs": [],
   "source": [
    "def get_trajectory(alpha, mu_to_gamma, alpha_f, t = 1.):\n",
    "\n",
    "    alpha_range = np.linspace(0.001,0.99,100)\n",
    "\n",
    "    t_range = [get_t(i,mu_to_gamma,alpha_f) for i in alpha_range]\n",
    "    \n",
    "    t_to_alpha = interp1d(t_range,alpha_range)\n",
    "    \n",
    "    y = []\n",
    "\n",
    "    for t_val in t:\n",
    "        alpha = t_to_alpha(t_val)\n",
    "        y_val = alpha_f * (1-alpha)*(1+alpha**2)**-0.5\n",
    "\n",
    "        y.append(np.copy(y_val))\n",
    "        \n",
    "    return y"
   ]
  },
  {
   "cell_type": "code",
   "execution_count": 129,
   "metadata": {},
   "outputs": [
    {
     "data": {
      "text/plain": [
       "<matplotlib.legend.Legend at 0x7fb57a4a51d0>"
      ]
     },
     "execution_count": 129,
     "metadata": {},
     "output_type": "execute_result"
    },
    {
     "data": {
      "image/png": "[encoded data removed]",
      "text/plain": [
       "<Figure size 288x288 with 1 Axes>"
      ]
     },
     "metadata": {
      "needs_background": "light"
     },
     "output_type": "display_data"
    }
   ],
   "source": [
    "f,ax = plt.subplots(1,1,figsize = (4,4))\n",
    "\n",
    "t = np.linspace(0.015,3,100)\n",
    "y_val = get_trajectory(alpha, 1, 1, t = t)\n",
    "\n",
    "ax.plot(t,y_val,'r--',label = 'standard')\n",
    "\n",
    "y_val = get_trajectory(alpha, 1, 5, t = t)\n",
    "ax.plot(t,y_val,'b--',label = 'big')\n",
    "\n",
    "y_val = get_trajectory(alpha, 5, 1, t = t)\n",
    "ax.plot(t,y_val,'k--',label = 'low surface tension')\n",
    "\n",
    "plt.legend()"
   ]
  },
  {
   "cell_type": "code",
   "execution_count": null,
   "metadata": {},
   "outputs": [],
   "source": []
  },
  {
   "cell_type": "code",
   "execution_count": null,
   "metadata": {},
   "outputs": [],
   "source": []
  }
 ],
 "metadata": {
  "kernelspec": {
   "display_name": "Python 2",
   "language": "python",
   "name": "python2"
  },
  "language_info": {
   "codemirror_mode": {
    "name": "ipython",
    "version": 2
   },
   "file_extension": ".py",
   "mimetype": "text/x-python",
   "name": "python",
   "nbconvert_exporter": "python",
   "pygments_lexer": "ipython2",
   "version": "2.7.15"
  }
 },
 "nbformat": 4,
 "nbformat_minor": 2
}
